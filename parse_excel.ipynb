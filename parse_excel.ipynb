{
 "cells": [
  {
   "cell_type": "code",
   "execution_count": 2,
   "metadata": {},
   "outputs": [
    {
     "name": "stdout",
     "output_type": "stream",
     "text": [
      "0,2.0,3.5\n",
      "0,5.5,6.5\n",
      "0,8.0,9.0\n",
      "1,2.5,4.0\n",
      "1,5.0,6.5\n",
      "2,2.0,3.0\n",
      "2,5.0,6.5\n",
      "2,8.5,9.5\n",
      "2,10.0,11.0\n",
      "3,5.0,6.5\n",
      "4,2.5,3.5\n",
      "4,5.5,7.0\n"
     ]
    }
   ],
   "source": [
    "import pandas as pd\n",
    "import numpy as np\n",
    "\n",
    "df = pd.read_excel('list3.xlsx', engine='openpyxl')\n",
    "df.head(5)\n",
    "\n",
    "my_data = np.array(df['요일/교시'])\n",
    "\n",
    "arr = []\n",
    "\n",
    "for data in my_data:\n",
    "    if type(data) != float:\n",
    "        data: str\n",
    "        val = data.split(',')\n",
    "        for v in val:\n",
    "            dow = v[0]\n",
    "            dow_int = 0\n",
    "            date = v[1:].split('-')\n",
    "            \n",
    "            if dow == '월':\n",
    "                dow_int = 0\n",
    "            if dow == '화':\n",
    "                dow_int = 1\n",
    "            if dow == '수':\n",
    "                dow_int = 2\n",
    "            if dow == '목':\n",
    "                dow_int = 3\n",
    "            if dow == '금':\n",
    "                dow_int = 4\n",
    "\n",
    "            arr.append((dow_int,float(date[0]),float(date[1])))\n",
    "arr.sort()    \n",
    "for data in arr:\n",
    "    print(f'{data[0]},{data[1]},{data[2]}')"
   ]
  }
 ],
 "metadata": {
  "interpreter": {
   "hash": "5b52d3f1a93035fbae4b23f4907b6cdcccd06bb554190270480c48988a92c64d"
  },
  "kernelspec": {
   "display_name": "Python 3.9.7 ('base')",
   "language": "python",
   "name": "python3"
  },
  "language_info": {
   "codemirror_mode": {
    "name": "ipython",
    "version": 3
   },
   "file_extension": ".py",
   "mimetype": "text/x-python",
   "name": "python",
   "nbconvert_exporter": "python",
   "pygments_lexer": "ipython3",
   "version": "3.9.7"
  },
  "orig_nbformat": 4
 },
 "nbformat": 4,
 "nbformat_minor": 2
}
